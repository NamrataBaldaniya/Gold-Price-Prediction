{
 "cells": [
  {
   "cell_type": "markdown",
   "id": "d0b24463",
   "metadata": {},
   "source": [
    "# Importing the Libraries"
   ]
  },
  {
   "cell_type": "code",
   "execution_count": 133,
   "id": "39f0b61d",
   "metadata": {},
   "outputs": [],
   "source": [
    "import numpy as np\n",
    "import pandas as pd\n",
    "import matplotlib.pyplot as plt\n",
    "import seaborn as sns\n",
    "from sklearn.model_selection import train_test_split\n",
    "from sklearn.ensemble import RandomForestRegressor\n",
    "from sklearn import metrics"
   ]
  },
  {
   "cell_type": "markdown",
   "id": "8eb057dc",
   "metadata": {},
   "source": [
    "# Data Collection and Processing"
   ]
  },
  {
   "cell_type": "code",
   "execution_count": 134,
   "id": "21ac901a",
   "metadata": {},
   "outputs": [],
   "source": [
    "# loading the csv data to a Pandas DataFrame\n",
    "df = pd.read_csv('gld_price_data.csv')"
   ]
  },
  {
   "cell_type": "code",
   "execution_count": 135,
   "id": "848003d5",
   "metadata": {},
   "outputs": [
    {
     "data": {
      "text/html": [
       "<div>\n",
       "<style scoped>\n",
       "    .dataframe tbody tr th:only-of-type {\n",
       "        vertical-align: middle;\n",
       "    }\n",
       "\n",
       "    .dataframe tbody tr th {\n",
       "        vertical-align: top;\n",
       "    }\n",
       "\n",
       "    .dataframe thead th {\n",
       "        text-align: right;\n",
       "    }\n",
       "</style>\n",
       "<table border=\"1\" class=\"dataframe\">\n",
       "  <thead>\n",
       "    <tr style=\"text-align: right;\">\n",
       "      <th></th>\n",
       "      <th>Date</th>\n",
       "      <th>SPX</th>\n",
       "      <th>GLD</th>\n",
       "      <th>USO</th>\n",
       "      <th>SLV</th>\n",
       "      <th>EUR/USD</th>\n",
       "    </tr>\n",
       "  </thead>\n",
       "  <tbody>\n",
       "    <tr>\n",
       "      <th>0</th>\n",
       "      <td>1/2/2008</td>\n",
       "      <td>1447.160034</td>\n",
       "      <td>84.860001</td>\n",
       "      <td>78.470001</td>\n",
       "      <td>15.180000</td>\n",
       "      <td>1.471692</td>\n",
       "    </tr>\n",
       "    <tr>\n",
       "      <th>1</th>\n",
       "      <td>1/3/2008</td>\n",
       "      <td>1447.160034</td>\n",
       "      <td>85.570000</td>\n",
       "      <td>78.370003</td>\n",
       "      <td>15.285000</td>\n",
       "      <td>1.474491</td>\n",
       "    </tr>\n",
       "    <tr>\n",
       "      <th>2</th>\n",
       "      <td>1/4/2008</td>\n",
       "      <td>1411.630005</td>\n",
       "      <td>85.129997</td>\n",
       "      <td>77.309998</td>\n",
       "      <td>1.475492</td>\n",
       "      <td>NaN</td>\n",
       "    </tr>\n",
       "    <tr>\n",
       "      <th>3</th>\n",
       "      <td>1/7/2008</td>\n",
       "      <td>1416.180054</td>\n",
       "      <td>NaN</td>\n",
       "      <td>75.500000</td>\n",
       "      <td>15.053000</td>\n",
       "      <td>1.468299</td>\n",
       "    </tr>\n",
       "    <tr>\n",
       "      <th>4</th>\n",
       "      <td>1/8/2008</td>\n",
       "      <td>1390.189941</td>\n",
       "      <td>86.779999</td>\n",
       "      <td>76.059998</td>\n",
       "      <td>15.590000</td>\n",
       "      <td>1.557099</td>\n",
       "    </tr>\n",
       "  </tbody>\n",
       "</table>\n",
       "</div>"
      ],
      "text/plain": [
       "       Date          SPX        GLD        USO        SLV   EUR/USD\n",
       "0  1/2/2008  1447.160034  84.860001  78.470001  15.180000  1.471692\n",
       "1  1/3/2008  1447.160034  85.570000  78.370003  15.285000  1.474491\n",
       "2  1/4/2008  1411.630005  85.129997  77.309998   1.475492       NaN\n",
       "3  1/7/2008  1416.180054        NaN  75.500000  15.053000  1.468299\n",
       "4  1/8/2008  1390.189941  86.779999  76.059998  15.590000  1.557099"
      ]
     },
     "execution_count": 135,
     "metadata": {},
     "output_type": "execute_result"
    }
   ],
   "source": [
    "# print first 5 rows in the dataframe\n",
    "df.head()"
   ]
  },
  {
   "cell_type": "code",
   "execution_count": 136,
   "id": "c0e15609",
   "metadata": {},
   "outputs": [
    {
     "name": "stdout",
     "output_type": "stream",
     "text": [
      "<class 'pandas.core.frame.DataFrame'>\n",
      "RangeIndex: 2671 entries, 0 to 2670\n",
      "Data columns (total 6 columns):\n",
      " #   Column   Non-Null Count  Dtype  \n",
      "---  ------   --------------  -----  \n",
      " 0   Date     2671 non-null   object \n",
      " 1   SPX      2663 non-null   float64\n",
      " 2   GLD      2664 non-null   float64\n",
      " 3   USO      2668 non-null   float64\n",
      " 4   SLV      2669 non-null   float64\n",
      " 5   EUR/USD  2670 non-null   float64\n",
      "dtypes: float64(5), object(1)\n",
      "memory usage: 125.3+ KB\n"
     ]
    }
   ],
   "source": [
    "df.info()"
   ]
  },
  {
   "cell_type": "code",
   "execution_count": 137,
   "id": "249c12dd",
   "metadata": {},
   "outputs": [
    {
     "data": {
      "text/plain": [
       "Date       0\n",
       "SPX        8\n",
       "GLD        7\n",
       "USO        3\n",
       "SLV        2\n",
       "EUR/USD    1\n",
       "dtype: int64"
      ]
     },
     "execution_count": 137,
     "metadata": {},
     "output_type": "execute_result"
    }
   ],
   "source": [
    "df.isnull().sum()"
   ]
  },
  {
   "cell_type": "code",
   "execution_count": 138,
   "id": "623b4c68",
   "metadata": {},
   "outputs": [
    {
     "data": {
      "text/html": [
       "<div>\n",
       "<style scoped>\n",
       "    .dataframe tbody tr th:only-of-type {\n",
       "        vertical-align: middle;\n",
       "    }\n",
       "\n",
       "    .dataframe tbody tr th {\n",
       "        vertical-align: top;\n",
       "    }\n",
       "\n",
       "    .dataframe thead th {\n",
       "        text-align: right;\n",
       "    }\n",
       "</style>\n",
       "<table border=\"1\" class=\"dataframe\">\n",
       "  <thead>\n",
       "    <tr style=\"text-align: right;\">\n",
       "      <th></th>\n",
       "      <th>Date</th>\n",
       "      <th>SPX</th>\n",
       "      <th>GLD</th>\n",
       "      <th>USO</th>\n",
       "      <th>SLV</th>\n",
       "      <th>EUR/USD</th>\n",
       "    </tr>\n",
       "  </thead>\n",
       "  <tbody>\n",
       "    <tr>\n",
       "      <th>2666</th>\n",
       "      <td>2/22/2013</td>\n",
       "      <td>1515.599908</td>\n",
       "      <td>152.970000</td>\n",
       "      <td>33.599998</td>\n",
       "      <td>27.830000</td>\n",
       "      <td>1.319430</td>\n",
       "    </tr>\n",
       "    <tr>\n",
       "      <th>2667</th>\n",
       "      <td>2/25/2013</td>\n",
       "      <td>1487.849918</td>\n",
       "      <td>154.339996</td>\n",
       "      <td>33.209999</td>\n",
       "      <td>28.070000</td>\n",
       "      <td>1.319592</td>\n",
       "    </tr>\n",
       "    <tr>\n",
       "      <th>2668</th>\n",
       "      <td>2/26/2013</td>\n",
       "      <td>1496.939941</td>\n",
       "      <td>156.220001</td>\n",
       "      <td>33.313000</td>\n",
       "      <td>28.410000</td>\n",
       "      <td>1.306506</td>\n",
       "    </tr>\n",
       "    <tr>\n",
       "      <th>2669</th>\n",
       "      <td>2/27/2013</td>\n",
       "      <td>1515.989990</td>\n",
       "      <td>154.570007</td>\n",
       "      <td>33.400002</td>\n",
       "      <td>28.010000</td>\n",
       "      <td>1.306592</td>\n",
       "    </tr>\n",
       "    <tr>\n",
       "      <th>2670</th>\n",
       "      <td>2/28/2013</td>\n",
       "      <td>1514.680054</td>\n",
       "      <td>153.000000</td>\n",
       "      <td>33.061000</td>\n",
       "      <td>27.540001</td>\n",
       "      <td>1.310510</td>\n",
       "    </tr>\n",
       "  </tbody>\n",
       "</table>\n",
       "</div>"
      ],
      "text/plain": [
       "           Date          SPX         GLD        USO        SLV   EUR/USD\n",
       "2666  2/22/2013  1515.599908  152.970000  33.599998  27.830000  1.319430\n",
       "2667  2/25/2013  1487.849918  154.339996  33.209999  28.070000  1.319592\n",
       "2668  2/26/2013  1496.939941  156.220001  33.313000  28.410000  1.306506\n",
       "2669  2/27/2013  1515.989990  154.570007  33.400002  28.010000  1.306592\n",
       "2670  2/28/2013  1514.680054  153.000000  33.061000  27.540001  1.310510"
      ]
     },
     "execution_count": 138,
     "metadata": {},
     "output_type": "execute_result"
    }
   ],
   "source": [
    "# print last 5 rows of the dataframe\n",
    "df.tail()"
   ]
  },
  {
   "cell_type": "code",
   "execution_count": 139,
   "id": "ac2f63e8",
   "metadata": {},
   "outputs": [
    {
     "data": {
      "text/plain": [
       "(2671, 6)"
      ]
     },
     "execution_count": 139,
     "metadata": {},
     "output_type": "execute_result"
    }
   ],
   "source": [
    "# number of rows and columns\n",
    "df.shape"
   ]
  },
  {
   "cell_type": "code",
   "execution_count": 140,
   "id": "51147015",
   "metadata": {},
   "outputs": [
    {
     "name": "stdout",
     "output_type": "stream",
     "text": [
      "<class 'pandas.core.frame.DataFrame'>\n",
      "RangeIndex: 2671 entries, 0 to 2670\n",
      "Data columns (total 6 columns):\n",
      " #   Column   Non-Null Count  Dtype  \n",
      "---  ------   --------------  -----  \n",
      " 0   Date     2671 non-null   object \n",
      " 1   SPX      2663 non-null   float64\n",
      " 2   GLD      2664 non-null   float64\n",
      " 3   USO      2668 non-null   float64\n",
      " 4   SLV      2669 non-null   float64\n",
      " 5   EUR/USD  2670 non-null   float64\n",
      "dtypes: float64(5), object(1)\n",
      "memory usage: 125.3+ KB\n"
     ]
    }
   ],
   "source": [
    "# getting some basic informations about the data\n",
    "df.info()"
   ]
  },
  {
   "cell_type": "code",
   "execution_count": 141,
   "id": "2afd088e",
   "metadata": {},
   "outputs": [
    {
     "data": {
      "text/plain": [
       "Date       0\n",
       "SPX        8\n",
       "GLD        7\n",
       "USO        3\n",
       "SLV        2\n",
       "EUR/USD    1\n",
       "dtype: int64"
      ]
     },
     "execution_count": 141,
     "metadata": {},
     "output_type": "execute_result"
    }
   ],
   "source": [
    "# checking the number of missing values\n",
    "df.isnull().sum()"
   ]
  },
  {
   "cell_type": "code",
   "execution_count": 142,
   "id": "0f2dbaaa",
   "metadata": {},
   "outputs": [
    {
     "data": {
      "text/html": [
       "<div>\n",
       "<style scoped>\n",
       "    .dataframe tbody tr th:only-of-type {\n",
       "        vertical-align: middle;\n",
       "    }\n",
       "\n",
       "    .dataframe tbody tr th {\n",
       "        vertical-align: top;\n",
       "    }\n",
       "\n",
       "    .dataframe thead th {\n",
       "        text-align: right;\n",
       "    }\n",
       "</style>\n",
       "<table border=\"1\" class=\"dataframe\">\n",
       "  <thead>\n",
       "    <tr style=\"text-align: right;\">\n",
       "      <th></th>\n",
       "      <th>count</th>\n",
       "      <th>mean</th>\n",
       "      <th>std</th>\n",
       "      <th>min</th>\n",
       "      <th>25%</th>\n",
       "      <th>50%</th>\n",
       "      <th>75%</th>\n",
       "      <th>max</th>\n",
       "    </tr>\n",
       "  </thead>\n",
       "  <tbody>\n",
       "    <tr>\n",
       "      <th>SPX</th>\n",
       "      <td>2663.0</td>\n",
       "      <td>1703.211940</td>\n",
       "      <td>503.517560</td>\n",
       "      <td>676.530029</td>\n",
       "      <td>1284.924988</td>\n",
       "      <td>1795.849976</td>\n",
       "      <td>2067.764893</td>\n",
       "      <td>2872.870117</td>\n",
       "    </tr>\n",
       "    <tr>\n",
       "      <th>GLD</th>\n",
       "      <td>2664.0</td>\n",
       "      <td>122.675649</td>\n",
       "      <td>21.751484</td>\n",
       "      <td>70.000000</td>\n",
       "      <td>111.977502</td>\n",
       "      <td>120.940002</td>\n",
       "      <td>129.130005</td>\n",
       "      <td>184.589996</td>\n",
       "    </tr>\n",
       "    <tr>\n",
       "      <th>USO</th>\n",
       "      <td>2668.0</td>\n",
       "      <td>31.712597</td>\n",
       "      <td>18.678601</td>\n",
       "      <td>7.960000</td>\n",
       "      <td>16.775001</td>\n",
       "      <td>34.004999</td>\n",
       "      <td>37.680000</td>\n",
       "      <td>117.480003</td>\n",
       "    </tr>\n",
       "    <tr>\n",
       "      <th>SLV</th>\n",
       "      <td>2669.0</td>\n",
       "      <td>19.791443</td>\n",
       "      <td>6.685690</td>\n",
       "      <td>1.475492</td>\n",
       "      <td>15.620000</td>\n",
       "      <td>17.370001</td>\n",
       "      <td>20.900000</td>\n",
       "      <td>47.259998</td>\n",
       "    </tr>\n",
       "    <tr>\n",
       "      <th>EUR/USD</th>\n",
       "      <td>2670.0</td>\n",
       "      <td>1.283688</td>\n",
       "      <td>0.128399</td>\n",
       "      <td>1.039047</td>\n",
       "      <td>1.177777</td>\n",
       "      <td>1.304053</td>\n",
       "      <td>1.368153</td>\n",
       "      <td>1.598798</td>\n",
       "    </tr>\n",
       "  </tbody>\n",
       "</table>\n",
       "</div>"
      ],
      "text/plain": [
       "          count         mean         std         min          25%  \\\n",
       "SPX      2663.0  1703.211940  503.517560  676.530029  1284.924988   \n",
       "GLD      2664.0   122.675649   21.751484   70.000000   111.977502   \n",
       "USO      2668.0    31.712597   18.678601    7.960000    16.775001   \n",
       "SLV      2669.0    19.791443    6.685690    1.475492    15.620000   \n",
       "EUR/USD  2670.0     1.283688    0.128399    1.039047     1.177777   \n",
       "\n",
       "                 50%          75%          max  \n",
       "SPX      1795.849976  2067.764893  2872.870117  \n",
       "GLD       120.940002   129.130005   184.589996  \n",
       "USO        34.004999    37.680000   117.480003  \n",
       "SLV        17.370001    20.900000    47.259998  \n",
       "EUR/USD     1.304053     1.368153     1.598798  "
      ]
     },
     "execution_count": 142,
     "metadata": {},
     "output_type": "execute_result"
    }
   ],
   "source": [
    "# statistical Measures of the dataset\n",
    "df.describe().T"
   ]
  },
  {
   "cell_type": "code",
   "execution_count": 143,
   "id": "5f98c3b1",
   "metadata": {},
   "outputs": [
    {
     "name": "stderr",
     "output_type": "stream",
     "text": [
      "C:\\Users\\OMSAI~1\\AppData\\Local\\Temp/ipykernel_32148/3698961737.py:1: FutureWarning: Dropping of nuisance columns in DataFrame reductions (with 'numeric_only=None') is deprecated; in a future version this will raise TypeError.  Select only valid columns before calling the reduction.\n",
      "  df.mean()\n"
     ]
    },
    {
     "data": {
      "text/plain": [
       "SPX        1703.211940\n",
       "GLD         122.675649\n",
       "USO          31.712597\n",
       "SLV          19.791443\n",
       "EUR/USD       1.283688\n",
       "dtype: float64"
      ]
     },
     "execution_count": 143,
     "metadata": {},
     "output_type": "execute_result"
    }
   ],
   "source": [
    "df.mean()"
   ]
  },
  {
   "cell_type": "code",
   "execution_count": 168,
   "id": "d5c61be9",
   "metadata": {},
   "outputs": [],
   "source": [
    "df[\"SPX\"].fillna(df['SPX'].mean(),inplace = True)\n",
    "df[\"GLD\"].fillna(df['GLD'].mean(),inplace = True)\n",
    "df[\"USO\"].fillna(df['USO'].mean(),inplace = True)\n",
    "df[\"SLV\"].fillna(df['SLV'].mean(),inplace = True)\n",
    "df[\"EUR/USD\"].fillna(df['EUR/USD'].mean(),inplace = True)"
   ]
  },
  {
   "cell_type": "code",
   "execution_count": 169,
   "id": "cda294b4",
   "metadata": {},
   "outputs": [
    {
     "data": {
      "text/plain": [
       "Date       0\n",
       "SPX        0\n",
       "GLD        0\n",
       "USO        0\n",
       "SLV        0\n",
       "EUR/USD    0\n",
       "dtype: int64"
      ]
     },
     "execution_count": 169,
     "metadata": {},
     "output_type": "execute_result"
    }
   ],
   "source": [
    "# checking the number of missing values\n",
    "df.isnull().sum()"
   ]
  },
  {
   "cell_type": "code",
   "execution_count": 170,
   "id": "d3a8036c",
   "metadata": {},
   "outputs": [],
   "source": [
    "# drop the \"date\",after the cor\n",
    "new_df = df.drop(['Date'], axis=1)"
   ]
  },
  {
   "cell_type": "code",
   "execution_count": 171,
   "id": "d4067240",
   "metadata": {},
   "outputs": [
    {
     "data": {
      "text/html": [
       "<div>\n",
       "<style scoped>\n",
       "    .dataframe tbody tr th:only-of-type {\n",
       "        vertical-align: middle;\n",
       "    }\n",
       "\n",
       "    .dataframe tbody tr th {\n",
       "        vertical-align: top;\n",
       "    }\n",
       "\n",
       "    .dataframe thead th {\n",
       "        text-align: right;\n",
       "    }\n",
       "</style>\n",
       "<table border=\"1\" class=\"dataframe\">\n",
       "  <thead>\n",
       "    <tr style=\"text-align: right;\">\n",
       "      <th></th>\n",
       "      <th>SPX</th>\n",
       "      <th>GLD</th>\n",
       "      <th>USO</th>\n",
       "      <th>SLV</th>\n",
       "      <th>EUR/USD</th>\n",
       "    </tr>\n",
       "  </thead>\n",
       "  <tbody>\n",
       "    <tr>\n",
       "      <th>0</th>\n",
       "      <td>1447.160034</td>\n",
       "      <td>84.860001</td>\n",
       "      <td>78.470001</td>\n",
       "      <td>15.180000</td>\n",
       "      <td>1.471692</td>\n",
       "    </tr>\n",
       "    <tr>\n",
       "      <th>1</th>\n",
       "      <td>1447.160034</td>\n",
       "      <td>85.570000</td>\n",
       "      <td>78.370003</td>\n",
       "      <td>15.285000</td>\n",
       "      <td>1.474491</td>\n",
       "    </tr>\n",
       "    <tr>\n",
       "      <th>2</th>\n",
       "      <td>1411.630005</td>\n",
       "      <td>85.129997</td>\n",
       "      <td>77.309998</td>\n",
       "      <td>1.475492</td>\n",
       "      <td>1.283688</td>\n",
       "    </tr>\n",
       "    <tr>\n",
       "      <th>3</th>\n",
       "      <td>1416.180054</td>\n",
       "      <td>122.675649</td>\n",
       "      <td>75.500000</td>\n",
       "      <td>15.053000</td>\n",
       "      <td>1.468299</td>\n",
       "    </tr>\n",
       "    <tr>\n",
       "      <th>4</th>\n",
       "      <td>1390.189941</td>\n",
       "      <td>86.779999</td>\n",
       "      <td>76.059998</td>\n",
       "      <td>15.590000</td>\n",
       "      <td>1.557099</td>\n",
       "    </tr>\n",
       "  </tbody>\n",
       "</table>\n",
       "</div>"
      ],
      "text/plain": [
       "           SPX         GLD        USO        SLV   EUR/USD\n",
       "0  1447.160034   84.860001  78.470001  15.180000  1.471692\n",
       "1  1447.160034   85.570000  78.370003  15.285000  1.474491\n",
       "2  1411.630005   85.129997  77.309998   1.475492  1.283688\n",
       "3  1416.180054  122.675649  75.500000  15.053000  1.468299\n",
       "4  1390.189941   86.779999  76.059998  15.590000  1.557099"
      ]
     },
     "execution_count": 171,
     "metadata": {},
     "output_type": "execute_result"
    }
   ],
   "source": [
    "new_df.head()"
   ]
  },
  {
   "cell_type": "code",
   "execution_count": 172,
   "id": "fd8f4f67",
   "metadata": {},
   "outputs": [
    {
     "data": {
      "text/html": [
       "<div>\n",
       "<style scoped>\n",
       "    .dataframe tbody tr th:only-of-type {\n",
       "        vertical-align: middle;\n",
       "    }\n",
       "\n",
       "    .dataframe tbody tr th {\n",
       "        vertical-align: top;\n",
       "    }\n",
       "\n",
       "    .dataframe thead th {\n",
       "        text-align: right;\n",
       "    }\n",
       "</style>\n",
       "<table border=\"1\" class=\"dataframe\">\n",
       "  <thead>\n",
       "    <tr style=\"text-align: right;\">\n",
       "      <th></th>\n",
       "      <th>SPX</th>\n",
       "      <th>GLD</th>\n",
       "      <th>USO</th>\n",
       "      <th>SLV</th>\n",
       "      <th>EUR/USD</th>\n",
       "    </tr>\n",
       "  </thead>\n",
       "  <tbody>\n",
       "    <tr>\n",
       "      <th>count</th>\n",
       "      <td>2671.000000</td>\n",
       "      <td>2671.000000</td>\n",
       "      <td>2671.000000</td>\n",
       "      <td>2671.000000</td>\n",
       "      <td>2671.000000</td>\n",
       "    </tr>\n",
       "    <tr>\n",
       "      <th>mean</th>\n",
       "      <td>1703.211940</td>\n",
       "      <td>122.675649</td>\n",
       "      <td>31.712597</td>\n",
       "      <td>19.791443</td>\n",
       "      <td>1.283688</td>\n",
       "    </tr>\n",
       "    <tr>\n",
       "      <th>std</th>\n",
       "      <td>502.762660</td>\n",
       "      <td>21.722952</td>\n",
       "      <td>18.668105</td>\n",
       "      <td>6.683185</td>\n",
       "      <td>0.128375</td>\n",
       "    </tr>\n",
       "    <tr>\n",
       "      <th>min</th>\n",
       "      <td>676.530029</td>\n",
       "      <td>70.000000</td>\n",
       "      <td>7.960000</td>\n",
       "      <td>1.475492</td>\n",
       "      <td>1.039047</td>\n",
       "    </tr>\n",
       "    <tr>\n",
       "      <th>25%</th>\n",
       "      <td>1285.729981</td>\n",
       "      <td>112.024998</td>\n",
       "      <td>16.780001</td>\n",
       "      <td>15.620000</td>\n",
       "      <td>1.177794</td>\n",
       "    </tr>\n",
       "    <tr>\n",
       "      <th>50%</th>\n",
       "      <td>1792.810059</td>\n",
       "      <td>120.940002</td>\n",
       "      <td>34.000000</td>\n",
       "      <td>17.370001</td>\n",
       "      <td>1.304002</td>\n",
       "    </tr>\n",
       "    <tr>\n",
       "      <th>75%</th>\n",
       "      <td>2067.560059</td>\n",
       "      <td>129.099999</td>\n",
       "      <td>37.674999</td>\n",
       "      <td>20.900000</td>\n",
       "      <td>1.368129</td>\n",
       "    </tr>\n",
       "    <tr>\n",
       "      <th>max</th>\n",
       "      <td>2872.870117</td>\n",
       "      <td>184.589996</td>\n",
       "      <td>117.480003</td>\n",
       "      <td>47.259998</td>\n",
       "      <td>1.598798</td>\n",
       "    </tr>\n",
       "  </tbody>\n",
       "</table>\n",
       "</div>"
      ],
      "text/plain": [
       "               SPX          GLD          USO          SLV      EUR/USD\n",
       "count  2671.000000  2671.000000  2671.000000  2671.000000  2671.000000\n",
       "mean   1703.211940   122.675649    31.712597    19.791443     1.283688\n",
       "std     502.762660    21.722952    18.668105     6.683185     0.128375\n",
       "min     676.530029    70.000000     7.960000     1.475492     1.039047\n",
       "25%    1285.729981   112.024998    16.780001    15.620000     1.177794\n",
       "50%    1792.810059   120.940002    34.000000    17.370001     1.304002\n",
       "75%    2067.560059   129.099999    37.674999    20.900000     1.368129\n",
       "max    2872.870117   184.589996   117.480003    47.259998     1.598798"
      ]
     },
     "execution_count": 172,
     "metadata": {},
     "output_type": "execute_result"
    }
   ],
   "source": [
    "# getting the statistical measures of the data\n",
    "df.describe()"
   ]
  },
  {
   "cell_type": "markdown",
   "id": "2764ea19",
   "metadata": {},
   "source": [
    "# Correlation:\n",
    "1. Positive Correlation\n",
    "2. Negative Correlation "
   ]
  },
  {
   "cell_type": "code",
   "execution_count": 173,
   "id": "151805d5",
   "metadata": {},
   "outputs": [],
   "source": [
    "correlation = new_df.corr()"
   ]
  },
  {
   "cell_type": "code",
   "execution_count": 174,
   "id": "b8243a31",
   "metadata": {},
   "outputs": [
    {
     "data": {
      "text/plain": [
       "<AxesSubplot:>"
      ]
     },
     "execution_count": 174,
     "metadata": {},
     "output_type": "execute_result"
    },
    {
     "data": {
      "image/png": "[encoded data removed]",
      "text/plain": [
       "<Figure size 576x576 with 2 Axes>"
      ]
     },
     "metadata": {
      "needs_background": "light"
     },
     "output_type": "display_data"
    }
   ],
   "source": [
    "# constructing a heatmap to understand the correlatiom\n",
    "plt.figure(figsize = (8,8))\n",
    "sns.heatmap(correlation, cbar=True, square=True, fmt='.1f',annot=True, annot_kws={'size':8}, cmap='Blues')"
   ]
  },
  {
   "cell_type": "code",
   "execution_count": 175,
   "id": "c0f7f679",
   "metadata": {},
   "outputs": [
    {
     "name": "stdout",
     "output_type": "stream",
     "text": [
      "SPX        0.031287\n",
      "GLD        1.000000\n",
      "USO       -0.175012\n",
      "SLV        0.858430\n",
      "EUR/USD   -0.007123\n",
      "Name: GLD, dtype: float64\n"
     ]
    }
   ],
   "source": [
    "# correlation values of GLD\n",
    "print(correlation['GLD'])"
   ]
  },
  {
   "cell_type": "code",
   "execution_count": 176,
   "id": "8a7c9f3f",
   "metadata": {},
   "outputs": [
    {
     "name": "stderr",
     "output_type": "stream",
     "text": [
      "D:\\New folder\\lib\\site-packages\\seaborn\\distributions.py:2619: FutureWarning: `distplot` is a deprecated function and will be removed in a future version. Please adapt your code to use either `displot` (a figure-level function with similar flexibility) or `histplot` (an axes-level function for histograms).\n",
      "  warnings.warn(msg, FutureWarning)\n"
     ]
    },
    {
     "data": {
      "text/plain": [
       "<AxesSubplot:xlabel='GLD', ylabel='Density'>"
      ]
     },
     "execution_count": 176,
     "metadata": {},
     "output_type": "execute_result"
    },
    {
     "data": {
      "image/png": "[encoded data removed]",
      "text/plain": [
       "<Figure size 432x288 with 1 Axes>"
      ]
     },
     "metadata": {
      "needs_background": "light"
     },
     "output_type": "display_data"
    }
   ],
   "source": [
    "# checking the distribution of the GLD Price\n",
    "sns.distplot(new_df['GLD'],color='green')"
   ]
  },
  {
   "cell_type": "markdown",
   "id": "8913b448",
   "metadata": {},
   "source": [
    "# Splitting the Features and Target"
   ]
  },
  {
   "cell_type": "code",
   "execution_count": 177,
   "id": "7728670b",
   "metadata": {},
   "outputs": [],
   "source": [
    "x = new_df.drop(['GLD'],axis=1)\n",
    "y = new_df['GLD']"
   ]
  },
  {
   "cell_type": "code",
   "execution_count": 178,
   "id": "57f79e93",
   "metadata": {},
   "outputs": [
    {
     "data": {
      "text/html": [
       "<div>\n",
       "<style scoped>\n",
       "    .dataframe tbody tr th:only-of-type {\n",
       "        vertical-align: middle;\n",
       "    }\n",
       "\n",
       "    .dataframe tbody tr th {\n",
       "        vertical-align: top;\n",
       "    }\n",
       "\n",
       "    .dataframe thead th {\n",
       "        text-align: right;\n",
       "    }\n",
       "</style>\n",
       "<table border=\"1\" class=\"dataframe\">\n",
       "  <thead>\n",
       "    <tr style=\"text-align: right;\">\n",
       "      <th></th>\n",
       "      <th>SPX</th>\n",
       "      <th>USO</th>\n",
       "      <th>SLV</th>\n",
       "      <th>EUR/USD</th>\n",
       "    </tr>\n",
       "  </thead>\n",
       "  <tbody>\n",
       "    <tr>\n",
       "      <th>0</th>\n",
       "      <td>1447.160034</td>\n",
       "      <td>78.470001</td>\n",
       "      <td>15.180000</td>\n",
       "      <td>1.471692</td>\n",
       "    </tr>\n",
       "    <tr>\n",
       "      <th>1</th>\n",
       "      <td>1447.160034</td>\n",
       "      <td>78.370003</td>\n",
       "      <td>15.285000</td>\n",
       "      <td>1.474491</td>\n",
       "    </tr>\n",
       "    <tr>\n",
       "      <th>2</th>\n",
       "      <td>1411.630005</td>\n",
       "      <td>77.309998</td>\n",
       "      <td>1.475492</td>\n",
       "      <td>1.283688</td>\n",
       "    </tr>\n",
       "    <tr>\n",
       "      <th>3</th>\n",
       "      <td>1416.180054</td>\n",
       "      <td>75.500000</td>\n",
       "      <td>15.053000</td>\n",
       "      <td>1.468299</td>\n",
       "    </tr>\n",
       "    <tr>\n",
       "      <th>4</th>\n",
       "      <td>1390.189941</td>\n",
       "      <td>76.059998</td>\n",
       "      <td>15.590000</td>\n",
       "      <td>1.557099</td>\n",
       "    </tr>\n",
       "    <tr>\n",
       "      <th>...</th>\n",
       "      <td>...</td>\n",
       "      <td>...</td>\n",
       "      <td>...</td>\n",
       "      <td>...</td>\n",
       "    </tr>\n",
       "    <tr>\n",
       "      <th>2666</th>\n",
       "      <td>1515.599908</td>\n",
       "      <td>33.599998</td>\n",
       "      <td>27.830000</td>\n",
       "      <td>1.319430</td>\n",
       "    </tr>\n",
       "    <tr>\n",
       "      <th>2667</th>\n",
       "      <td>1487.849918</td>\n",
       "      <td>33.209999</td>\n",
       "      <td>28.070000</td>\n",
       "      <td>1.319592</td>\n",
       "    </tr>\n",
       "    <tr>\n",
       "      <th>2668</th>\n",
       "      <td>1496.939941</td>\n",
       "      <td>33.313000</td>\n",
       "      <td>28.410000</td>\n",
       "      <td>1.306506</td>\n",
       "    </tr>\n",
       "    <tr>\n",
       "      <th>2669</th>\n",
       "      <td>1515.989990</td>\n",
       "      <td>33.400002</td>\n",
       "      <td>28.010000</td>\n",
       "      <td>1.306592</td>\n",
       "    </tr>\n",
       "    <tr>\n",
       "      <th>2670</th>\n",
       "      <td>1514.680054</td>\n",
       "      <td>33.061000</td>\n",
       "      <td>27.540001</td>\n",
       "      <td>1.310510</td>\n",
       "    </tr>\n",
       "  </tbody>\n",
       "</table>\n",
       "<p>2671 rows × 4 columns</p>\n",
       "</div>"
      ],
      "text/plain": [
       "              SPX        USO        SLV   EUR/USD\n",
       "0     1447.160034  78.470001  15.180000  1.471692\n",
       "1     1447.160034  78.370003  15.285000  1.474491\n",
       "2     1411.630005  77.309998   1.475492  1.283688\n",
       "3     1416.180054  75.500000  15.053000  1.468299\n",
       "4     1390.189941  76.059998  15.590000  1.557099\n",
       "...           ...        ...        ...       ...\n",
       "2666  1515.599908  33.599998  27.830000  1.319430\n",
       "2667  1487.849918  33.209999  28.070000  1.319592\n",
       "2668  1496.939941  33.313000  28.410000  1.306506\n",
       "2669  1515.989990  33.400002  28.010000  1.306592\n",
       "2670  1514.680054  33.061000  27.540001  1.310510\n",
       "\n",
       "[2671 rows x 4 columns]"
      ]
     },
     "execution_count": 178,
     "metadata": {},
     "output_type": "execute_result"
    }
   ],
   "source": [
    "x"
   ]
  },
  {
   "cell_type": "code",
   "execution_count": 179,
   "id": "8abe9b3d",
   "metadata": {},
   "outputs": [
    {
     "data": {
      "text/plain": [
       "0        84.860001\n",
       "1        85.570000\n",
       "2        85.129997\n",
       "3       122.675649\n",
       "4        86.779999\n",
       "           ...    \n",
       "2666    152.970000\n",
       "2667    154.339996\n",
       "2668    156.220001\n",
       "2669    154.570007\n",
       "2670    153.000000\n",
       "Name: GLD, Length: 2671, dtype: float64"
      ]
     },
     "execution_count": 179,
     "metadata": {},
     "output_type": "execute_result"
    }
   ],
   "source": [
    "y"
   ]
  },
  {
   "cell_type": "markdown",
   "id": "769feddc",
   "metadata": {},
   "source": [
    "# Splitting into Training data and Test Data"
   ]
  },
  {
   "cell_type": "code",
   "execution_count": 180,
   "id": "76f78110",
   "metadata": {},
   "outputs": [],
   "source": [
    "x_train, x_test, y_train, y_test = train_test_split(x, y, test_size = 0.2, random_state=2)"
   ]
  },
  {
   "cell_type": "markdown",
   "id": "8f30daef",
   "metadata": {},
   "source": [
    "# Model Training: Random Forest Regressor"
   ]
  },
  {
   "cell_type": "code",
   "execution_count": 181,
   "id": "9c6fe6c2",
   "metadata": {},
   "outputs": [],
   "source": [
    "model = RandomForestRegressor(n_estimators=100)"
   ]
  },
  {
   "cell_type": "code",
   "execution_count": 182,
   "id": "a5cf2b74",
   "metadata": {},
   "outputs": [
    {
     "data": {
      "text/plain": [
       "RandomForestRegressor()"
      ]
     },
     "execution_count": 182,
     "metadata": {},
     "output_type": "execute_result"
    }
   ],
   "source": [
    "model"
   ]
  },
  {
   "cell_type": "code",
   "execution_count": 183,
   "id": "1fd94ed1",
   "metadata": {},
   "outputs": [
    {
     "data": {
      "text/plain": [
       "RandomForestRegressor()"
      ]
     },
     "execution_count": 183,
     "metadata": {},
     "output_type": "execute_result"
    }
   ],
   "source": [
    "# training the model\n",
    "model.fit(x_train, y_train)"
   ]
  },
  {
   "cell_type": "markdown",
   "id": "190eaef3",
   "metadata": {},
   "source": [
    "# Model Evaluation"
   ]
  },
  {
   "cell_type": "code",
   "execution_count": 185,
   "id": "16e0dc3b",
   "metadata": {},
   "outputs": [],
   "source": [
    "# prediction on Test Data\n",
    "y_pred = model.predict(x_test)"
   ]
  },
  {
   "cell_type": "code",
   "execution_count": 186,
   "id": "4fd741f1",
   "metadata": {},
   "outputs": [
    {
     "data": {
      "text/plain": [
       "array([111.98830138,  87.97380123, 109.50629937, 125.53330116,\n",
       "       118.73959949, 114.8713987 , 127.61100127, 125.83070216,\n",
       "       129.63869857,  79.5361987 , 127.59960054, 159.79150195,\n",
       "       147.61170027, 121.83720165, 112.0742007 , 123.52369827,\n",
       "       168.26349869,  94.2019821 , 120.23100163, 126.96020281,\n",
       "       119.76940191, 122.61349971, 130.55640084, 115.18799937,\n",
       "       122.4507981 , 118.89249873, 126.9358976 , 122.33689926,\n",
       "       126.91620107, 126.41939828, 113.0647013 , 128.18460095,\n",
       "       167.15120217,  87.41049898, 111.36049999, 125.73179803,\n",
       "        87.8813994 ,  91.85979932, 127.69629709, 126.07940118,\n",
       "       118.10029832,  89.27522533, 125.34180108, 105.63490032,\n",
       "       135.6150013 , 125.90209963, 159.78079985, 150.76789869,\n",
       "       117.65220002, 119.0692989 , 110.28329843, 119.61399981,\n",
       "       122.33689926, 128.20940072, 159.7489013 , 107.93169729,\n",
       "       119.45809962, 152.92399992,  89.68819887, 119.71399775,\n",
       "        97.41290054, 114.01529941,  98.08819998, 121.79889995,\n",
       "        85.9271691 ,  82.45128328, 124.66902822, 129.90440276,\n",
       "       115.96270103, 154.96790096, 118.0297996 , 170.06530048,\n",
       "       125.49250173, 102.17320001, 125.78779333, 141.37370114,\n",
       "       126.04909239, 121.55509946, 161.34330208, 165.86190045,\n",
       "       125.03340091, 121.04810011, 139.80189982, 125.59109917,\n",
       "       125.84109979, 115.44869938, 118.83959697, 108.36910088,\n",
       "       167.54269888, 117.8267007 , 159.0210998 , 152.32059933,\n",
       "       117.39410039, 127.39310117, 144.92050243,  93.05099974,\n",
       "       169.22320249, 120.08580013, 122.10729928, 118.89500063,\n",
       "       156.39790082,  91.08940058, 122.85089777, 121.08520015,\n",
       "       117.06320026,  90.74080109, 112.37750113, 103.14999842,\n",
       "       121.69419999, 129.45390071, 115.57969983,  86.95059881,\n",
       "       114.10759943, 127.51203278, 160.84760093, 169.49100053,\n",
       "       113.37130005,  72.99970072, 125.19320061,  95.9995002 ,\n",
       "       106.81330142, 122.59097537, 146.69590091, 125.59820081,\n",
       "       119.7466008 , 162.59970088, 165.40280089, 165.28530217,\n",
       "       117.24129868, 153.31600068, 116.82030098, 102.45450001,\n",
       "       114.81      , 118.02489912, 126.07940118,  90.57349941,\n",
       "       113.70740137, 115.18799937,  92.57849992, 135.44099711,\n",
       "       163.70680307, 116.85790047, 122.01409848,  90.84749995,\n",
       "        90.83089964, 122.1722005 , 155.70810174, 115.03739946,\n",
       "       121.56500034,  82.4061988 , 109.55329831, 111.65250079,\n",
       "       130.78540265,  88.39929863, 154.09930351, 157.2857033 ,\n",
       "       132.11090437, 116.60889808, 116.242898  , 121.10960083,\n",
       "       161.39749853, 130.71930266, 122.72773681, 114.49989943,\n",
       "       132.20849884,  87.50869894, 115.03389951,  87.91640122,\n",
       "       126.61100027, 117.4361973 , 108.45389837, 115.36720057,\n",
       "        91.89049975, 126.08419909, 124.57340009, 118.86330016,\n",
       "       119.80059927, 103.11139799, 113.09310076, 111.44520004,\n",
       "       117.82129979, 116.79350216, 126.16050015, 117.29090139,\n",
       "       101.214798  ,  91.36089987, 114.48190088, 121.71329928,\n",
       "       167.13220164, 123.15240006, 120.17590245, 117.21630161,\n",
       "       117.24129868, 109.43169804, 127.18370188, 124.99909878,\n",
       "        89.35845132, 102.11979977,  96.2681975 , 152.86890316,\n",
       "       120.45280038, 118.19420025,  77.38730009,  91.57949984,\n",
       "       124.9559001 , 116.02030122, 119.58140077, 126.11460046,\n",
       "       116.71629807, 127.18370188, 126.63159953, 124.60549938,\n",
       "       126.98909845, 166.49510192, 116.06910147, 108.39239895,\n",
       "       125.45320049, 124.57340009, 119.27659752, 116.47709895,\n",
       "       119.48850056, 119.14410081, 124.03760072, 120.9751999 ,\n",
       "       127.5443008 , 115.4200007 , 117.40760053, 139.30359982,\n",
       "       125.16430015, 124.4096991 , 104.71999858,  87.00049821,\n",
       "       127.25956086, 102.78030017, 158.38109805, 175.74690108,\n",
       "        90.06387583, 124.46240134, 154.27399933, 119.71770092,\n",
       "       171.00719972, 144.93170224,  97.6803636 ,  90.71720006,\n",
       "        91.00070713, 131.05589782, 116.70110033, 104.11999919,\n",
       "       127.86779484, 109.99019912, 149.34469732,  99.08289937,\n",
       "       169.94230056, 119.6563006 , 110.84999827,  87.71709915,\n",
       "       112.26059991, 118.52509903, 104.58999996, 118.84740257,\n",
       "       109.81069813, 118.71510043, 107.83339708, 115.00179879,\n",
       "        85.57209916, 123.20879807,  93.43050078, 125.34239947,\n",
       "       129.00590386, 123.26769821,  94.22660135, 120.17710149,\n",
       "       113.77129946, 101.7049013 , 150.05629767, 160.98260103,\n",
       "       124.66902822, 116.7468003 , 122.24210063, 120.0308019 ,\n",
       "       118.69610064, 106.98679916,  87.00639945, 117.8424995 ,\n",
       "       126.98909845, 128.36039384,  94.27365585,  94.3255005 ,\n",
       "       115.23040016, 125.67040019, 120.43349905, 168.37940036,\n",
       "        89.77189979, 127.40439862, 118.5680984 , 121.15330029,\n",
       "       155.47670031, 163.68900056, 118.50560006, 126.76769967,\n",
       "       125.63440085, 116.86070127, 146.61769663, 158.25390075,\n",
       "       115.24880071,  99.13105337,  94.15409914, 117.84290158,\n",
       "       120.40670036, 115.73660077, 122.47670155, 125.19509955,\n",
       "       119.83279949, 121.06159915, 119.95300079, 134.66189923,\n",
       "       102.9503999 , 120.51260169, 121.30900046, 124.91799884,\n",
       "       126.84459862, 128.71610214,  80.16758215, 121.71410023,\n",
       "       120.63550063,  88.3036986 , 118.02010166, 153.47150036,\n",
       "        90.36109949, 120.82069958, 161.35040408,  99.35798895,\n",
       "       126.84459862, 104.84309926, 118.55380034, 115.6807003 ,\n",
       "       115.04480034, 124.3038911 , 115.04539793, 113.54040109,\n",
       "       136.02049814,  92.14020819, 121.52330152, 121.0099026 ,\n",
       "       173.94400023, 132.38449855, 125.77399816, 125.41800013,\n",
       "       108.3092997 , 126.08419909, 133.50980105, 114.54739883,\n",
       "        87.26999872,  82.65449932, 124.3184989 , 127.22559932,\n",
       "       111.44520004, 118.10620095, 114.66969986, 108.6636996 ,\n",
       "       120.76440001, 119.25640101,  87.86203689, 107.65325544,\n",
       "       126.91960111,  92.85980036, 124.43620157, 120.85989995,\n",
       "       128.32640016,  98.19169878,  91.9246574 , 119.78529986,\n",
       "       121.64090024, 147.38820058, 123.74549951, 101.69689832,\n",
       "       125.48239823,  86.79780027, 120.48209993, 153.43719869,\n",
       "       167.415599  , 124.57340009, 121.50240091, 109.4661996 ,\n",
       "       126.01699821, 115.96270103, 127.65839711,  87.48649914,\n",
       "       121.69140153, 113.84210057, 122.82759787, 134.99710038,\n",
       "       115.08599928,  89.00219861, 121.20900225, 117.41580009,\n",
       "       110.27980159, 105.18119947, 133.19290113, 121.20900225,\n",
       "       140.148199  , 114.57480133, 116.19540119, 113.51989841,\n",
       "       115.04480034,  94.25170159, 113.62120027, 119.81349922,\n",
       "       160.00160096, 116.59180109, 130.58050034, 126.07940118,\n",
       "       108.55069946, 167.70609787, 129.53799493, 119.65480126,\n",
       "       126.31070001, 170.85840261, 120.82289792, 124.00559777,\n",
       "        92.63219968, 127.7532011 , 118.08199941, 116.96120074,\n",
       "        87.69349914, 127.8588009 , 122.63339892, 153.26550355,\n",
       "       124.11540098, 121.42240336, 113.00759776, 115.70980101,\n",
       "       122.83529852, 135.32929734, 108.70729962, 105.33520025,\n",
       "       121.50460054, 131.58170411, 123.56820017,  80.50430082,\n",
       "       149.48140014, 118.17750106, 116.45620109, 113.60439978,\n",
       "       124.96760057, 103.01439814,  88.46719846, 109.63299955,\n",
       "       154.48120504, 121.62940041, 160.30569716, 126.96599832,\n",
       "       108.19289948, 114.84140041, 117.97519827,  86.71509812,\n",
       "       118.86170089, 115.27449872,  89.16435137, 122.68860188,\n",
       "       121.6251993 ,  82.15839956, 115.33210118, 162.59920098,\n",
       "       170.37309986, 113.55200067, 120.23100163, 139.25680241,\n",
       "       156.45639842, 145.96800029, 159.98290117, 101.40749822,\n",
       "       127.92700049,  98.57580017, 154.75020096, 174.15049753,\n",
       "       110.71549858,  90.99229995, 156.50569998, 116.27440086,\n",
       "       114.85089946,  95.05100036, 134.09700132, 154.48660274,\n",
       "       106.27779875,  86.57490086, 160.14510115, 117.30349921,\n",
       "       125.89049727, 120.64360003, 120.23240092, 128.96549913,\n",
       "       125.29270106, 178.65419735,  94.24395495, 119.08889956,\n",
       "       124.0756353 , 147.2121003 , 121.46479997, 117.72880077,\n",
       "       127.69000056, 124.70086624, 124.56290186,  79.56935647,\n",
       "       163.95710002, 109.39280036,  91.73069907,  84.70899938,\n",
       "       117.95420123, 154.89309954, 153.88620065,  74.53360009,\n",
       "       137.7497014 ,  92.54349879, 121.01989793, 122.63349809,\n",
       "       161.66810361, 127.38619997, 123.26769821, 128.26360109,\n",
       "       113.37179937, 167.25820162, 127.86779484, 115.79789831,\n",
       "        93.10120071, 111.23839997, 110.77849925, 121.48440031,\n",
       "       127.32670089, 166.49900276,  98.88269894, 149.61030122,\n",
       "       106.68800114, 117.57930065,  91.60979849])"
      ]
     },
     "execution_count": 186,
     "metadata": {},
     "output_type": "execute_result"
    }
   ],
   "source": [
    "y_pred"
   ]
  },
  {
   "cell_type": "code",
   "execution_count": 187,
   "id": "df61ebcc",
   "metadata": {},
   "outputs": [],
   "source": [
    "# R squared error\n",
    "score = metrics.r2_score(y_test, y_pred)"
   ]
  },
  {
   "cell_type": "code",
   "execution_count": 188,
   "id": "1aed9065",
   "metadata": {},
   "outputs": [
    {
     "data": {
      "text/plain": [
       "0.9845857793153872"
      ]
     },
     "execution_count": 188,
     "metadata": {},
     "output_type": "execute_result"
    }
   ],
   "source": [
    "score"
   ]
  },
  {
   "cell_type": "code",
   "execution_count": null,
   "id": "a66e41f5",
   "metadata": {},
   "outputs": [],
   "source": []
  },
  {
   "cell_type": "code",
   "execution_count": null,
   "id": "1fb3b2dc",
   "metadata": {},
   "outputs": [],
   "source": []
  },
  {
   "cell_type": "code",
   "execution_count": null,
   "id": "c2a0a591",
   "metadata": {},
   "outputs": [],
   "source": []
  }
 ],
 "metadata": {
  "kernelspec": {
   "display_name": "Python 3 (ipykernel)",
   "language": "python",
   "name": "python3"
  },
  "language_info": {
   "codemirror_mode": {
    "name": "ipython",
    "version": 3
   },
   "file_extension": ".py",
   "mimetype": "text/x-python",
   "name": "python",
   "nbconvert_exporter": "python",
   "pygments_lexer": "ipython3",
   "version": "3.9.7"
  }
 },
 "nbformat": 4,
 "nbformat_minor": 5
}
